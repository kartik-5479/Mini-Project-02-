{
  "nbformat": 4,
  "nbformat_minor": 0,
  "metadata": {
    "colab": {
      "provenance": [],
      "authorship_tag": "ABX9TyMN1UxBPPmBT5sJT3HAwgAr",
      "include_colab_link": true
    },
    "kernelspec": {
      "name": "python3",
      "display_name": "Python 3"
    },
    "language_info": {
      "name": "python"
    }
  },
  "cells": [
    {
      "cell_type": "markdown",
      "metadata": {
        "id": "view-in-github",
        "colab_type": "text"
      },
      "source": [
        "<a href=\"https://colab.research.google.com/github/kartik-5479/Mini-Project-02-/blob/main/MiniProject(02).ipynb\" target=\"_parent\"><img src=\"https://colab.research.google.com/assets/colab-badge.svg\" alt=\"Open In Colab\"/></a>"
      ]
    },
    {
      "cell_type": "markdown",
      "source": [
        "# ** 1. Write a python program to sort the list of heterogeneous data. **\n",
        "```\n",
        "e.g.  \n",
        "L = [\"Ram\", 1, \"Shyam\", 2, \"Aman\", 3]\n",
        "print(L)\n",
        "L.sort()\n",
        "print(L)\n",
        "Above code gives error. Correct it.\n",
        "```\n",
        "\n"
      ],
      "metadata": {
        "id": "-8v-4-fStb4_"
      }
    },
    {
      "cell_type": "code",
      "execution_count": 1,
      "metadata": {
        "colab": {
          "base_uri": "https://localhost:8080/"
        },
        "id": "PNbFAfeFqqXl",
        "outputId": "5425de7a-ef93-4a9a-a7a8-fc22fc625493"
      },
      "outputs": [
        {
          "output_type": "stream",
          "name": "stdout",
          "text": [
            "Sorted List: ['Aman', 'Ram', 'Shyam', 1, 2, 3]\n"
          ]
        }
      ],
      "source": [
        "L = [\"Ram\", 1, \"Shyam\", 2, \"Aman\", 3]\n",
        "\n",
        "# Separate strings and numbers\n",
        "strings = []\n",
        "numbers = []\n",
        "\n",
        "for item in L:\n",
        "    if type(item) == str:\n",
        "        strings.append(item)\n",
        "    else:\n",
        "        numbers.append(item)\n",
        "\n",
        "# Sort them\n",
        "strings.sort()\n",
        "numbers.sort()\n",
        "\n",
        "# Combine the sorted parts\n",
        "sorted_list = strings + numbers\n",
        "\n",
        "print(\"Sorted List:\", sorted_list)\n"
      ]
    }
  ]
}